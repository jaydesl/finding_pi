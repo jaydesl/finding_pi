{
 "cells": [
  {
   "cell_type": "code",
   "execution_count": null,
   "metadata": {},
   "outputs": [],
   "source": [
    "import time\n",
    "\n",
    "n = int(10e9)\n",
    "\n",
    "start_time = time.time()\n",
    "\n",
    "w = 1.0/n\n",
    "psum = 0.0\n",
    "\n",
    "for i in range(1,n+1):\n",
    "    x = w*(i - 0.5)\n",
    "    psum = psum+4.0/(1.0 + x*x)\n",
    "pi=w*psum\n",
    "duration = time.time() - start_time\n",
    "\n",
    "\n",
    "print(n, \"   \", pi, \"   \", duration)"
   ]
  }
 ],
 "metadata": {
  "kernelspec": {
   "display_name": "Python 3",
   "language": "python",
   "name": "python3"
  },
  "language_info": {
   "name": "python",
   "version": "3.9.6 (default, Oct 18 2022, 12:41:40) \n[Clang 14.0.0 (clang-1400.0.29.202)]"
  },
  "orig_nbformat": 4,
  "vscode": {
   "interpreter": {
    "hash": "31f2aee4e71d21fbe5cf8b01ff0e069b9275f58929596ceb00d14d90e3e16cd6"
   }
  }
 },
 "nbformat": 4,
 "nbformat_minor": 2
}
