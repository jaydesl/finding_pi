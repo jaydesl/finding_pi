{
 "cells": [
  {
   "cell_type": "code",
   "execution_count": null,
   "metadata": {},
   "outputs": [],
   "source": [
    "function calc_pi(n)\n",
    "    w = 1.0/n\n",
    "    psum = 0.0\n",
    "\n",
    "    for i in 1:n\n",
    "        x = w * (i - 0.5)\n",
    "        psum += 4.0 / (1.0 + x * x)\n",
    "    end\n",
    "\n",
    "    pi = w * psum\n",
    "    return pi\n",
    "end"
   ]
  },
  {
   "cell_type": "code",
   "execution_count": null,
   "metadata": {},
   "outputs": [],
   "source": [
    "function calc_pi_vectorisation(n)\n",
    "    w = 1.0/n\n",
    "    psum = 0.0\n",
    "\n",
    "    @simd for i in 1:n\n",
    "        x = w * (i - 0.5)\n",
    "        psum += 4.0 / (1.0 + x * x)\n",
    "    end\n",
    "\n",
    "    pi = w * psum\n",
    "    return pi\n",
    "end"
   ]
  },
  {
   "cell_type": "code",
   "execution_count": null,
   "metadata": {},
   "outputs": [],
   "source": [
    "function calc_pi_fastmath(n)\n",
    "    w = 1.0/n\n",
    "    psum = 0.0\n",
    "\n",
    "    @fastmath for i in 1:n\n",
    "        x = w * (i - 0.5)\n",
    "        psum += 4.0 / (1.0 + x * x)\n",
    "    end\n",
    "\n",
    "    pi = w * psum\n",
    "    return pi\n",
    "end"
   ]
  },
  {
   "cell_type": "code",
   "execution_count": null,
   "metadata": {},
   "outputs": [],
   "source": [
    "using BenchmarkTools\n",
    "\n",
    "n = 1_000_000_000"
   ]
  },
  {
   "attachments": {},
   "cell_type": "markdown",
   "metadata": {},
   "source": [
    "## Naive"
   ]
  },
  {
   "cell_type": "code",
   "execution_count": null,
   "metadata": {},
   "outputs": [],
   "source": [
    "@btime calc_pi(n)"
   ]
  },
  {
   "attachments": {},
   "cell_type": "markdown",
   "metadata": {},
   "source": [
    "## Vectorisation"
   ]
  },
  {
   "cell_type": "code",
   "execution_count": null,
   "metadata": {},
   "outputs": [],
   "source": [
    "@btime calc_pi_vectorisation(n)"
   ]
  },
  {
   "attachments": {},
   "cell_type": "markdown",
   "metadata": {},
   "source": [
    "## Fastmath"
   ]
  },
  {
   "cell_type": "code",
   "execution_count": null,
   "metadata": {},
   "outputs": [],
   "source": [
    "@btime calc_pi_fastmath(n)"
   ]
  }
 ],
 "metadata": {
  "kernelspec": {
   "display_name": "Julia 1.8.3",
   "language": "julia",
   "name": "julia-1.8"
  },
  "language_info": {
   "file_extension": ".jl",
   "mimetype": "application/julia",
   "name": "julia",
   "version": "1.8.3"
  },
  "orig_nbformat": 4
 },
 "nbformat": 4,
 "nbformat_minor": 2
}
